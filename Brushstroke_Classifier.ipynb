{
  "nbformat": 4,
  "nbformat_minor": 0,
  "metadata": {
    "accelerator": "GPU",
    "colab": {
      "name": "Brushstroke-Classifier.ipynb",
      "provenance": [],
      "collapsed_sections": [],
      "toc_visible": true,
      "machine_shape": "hm",
      "authorship_tag": "ABX9TyN+wX5xgVssIg49BxrO4sxM",
      "include_colab_link": true
    },
    "kernelspec": {
      "display_name": "Python 3",
      "name": "python3"
    },
    "language_info": {
      "name": "python"
    }
  },
  "cells": [
    {
      "cell_type": "markdown",
      "metadata": {
        "id": "view-in-github",
        "colab_type": "text"
      },
      "source": [
        "<a href=\"https://colab.research.google.com/github/jkurian49/Brushstroke-Classifier/blob/main/Brushstroke_Classifier.ipynb\" target=\"_parent\"><img src=\"https://colab.research.google.com/assets/colab-badge.svg\" alt=\"Open In Colab\"/></a>"
      ]
    },
    {
      "cell_type": "code",
      "metadata": {
        "id": "qotl8igTYN8v"
      },
      "source": [
        "from google.colab import drive\n",
        "drive.mount('/content/drive')"
      ],
      "execution_count": null,
      "outputs": []
    },
    {
      "cell_type": "code",
      "metadata": {
        "id": "xmtTB6qN32dr"
      },
      "source": [
        "!git clone https://github.com/jkurian49/Brushstroke-Classifier.git\n",
        "%cd Brushstroke-Classifier/"
      ],
      "execution_count": null,
      "outputs": []
    },
    {
      "cell_type": "markdown",
      "metadata": {
        "id": "qbAIcV1sze0x"
      },
      "source": [
        "# Data Loading and Preprocessing "
      ]
    },
    {
      "cell_type": "code",
      "metadata": {
        "id": "0Oc7jm5j3z0n"
      },
      "source": [
        "import numpy as np\n",
        "import pandas as pd\n",
        "import matplotlib.pyplot as plt\n",
        "from sklearn.model_selection import train_test_split\n",
        "from tqdm import tqdm\n",
        "from keras.preprocessing import image\n",
        "from keras.applications.vgg16 import preprocess_input\n",
        "\n",
        "data = pd.read_csv('brushstroke_data.csv')\n",
        "data.replace('', np.nan, inplace=True)\n",
        "data.dropna(inplace=True)\n",
        "\n",
        "# CHANGE IMAGE PATH TO WORK IN GITHUB\n",
        "image_path = \"/content/drive/MyDrive/LABELED BRUSH STROKES/\"\n",
        "\n",
        "# Preprocess training images\n",
        "TARGET_SIZE = (224,224,3) \n",
        "train_image = []\n",
        "\n",
        "for i in tqdm(range(data.shape[0])): \n",
        "    img = image.load_img(image_path + data['ID'][i] + '.jpg',target_size=TARGET_SIZE)\n",
        "    img = image.img_to_array(img)\n",
        "    img = preprocess_input(img)\n",
        "    train_image.append(img)\n",
        "X = np.array(train_image)\n"
      ],
      "execution_count": null,
      "outputs": []
    },
    {
      "cell_type": "markdown",
      "metadata": {
        "id": "81SwM-D987Yf"
      },
      "source": [
        "# Training Model\n"
      ]
    },
    {
      "cell_type": "code",
      "metadata": {
        "id": "204PXmKt8-Av"
      },
      "source": [
        "# model configuration per variable\n",
        "config = {\n",
        "    'Paint Type' : {\n",
        "        'num_classes' : '2',\n",
        "        'num_epochs' : '15'\n",
        "    },\n",
        "    'Brush Type' : {\n",
        "        'num_classes' : '8',\n",
        "        'num_epochs' : '20'\n",
        "    },\n",
        "    'Brush Material' : {\n",
        "        'num_classes' : '2',\n",
        "        'num_epochs' : '15'\n",
        "    },\n",
        "    'Tool Path Type' : {\n",
        "        'num_classes' : '5',\n",
        "        'num_epochs' : '20'\n",
        "    }\n",
        "}"
      ],
      "execution_count": null,
      "outputs": []
    },
    {
      "cell_type": "code",
      "metadata": {
        "id": "TdRY4tGY917F"
      },
      "source": [
        "val_accs = {}\n",
        "trained_models = {}\n",
        "for config_name in config.keys():\n",
        "\n",
        "  # specify single variable to be used as label \n",
        "  y = np.array(data[config_name])\n",
        "\n",
        "  X_train, X_valid, y_train, y_valid = train_test_split(X, y, random_state=420, test_size=0.2)\n",
        "\n",
        "  # PARAMETERS\n",
        "  NUM_CLASSES = config[config_name]['num_classes']\n",
        "  BATCH_SIZE = 16\n",
        "\n",
        "  from keras.applications.vgg16 import VGG16\n",
        "  from keras.models import Model\n",
        "  from keras.layers import Dense\n",
        "  from keras.layers import Flatten\n",
        "  from tensorflow import keras\n",
        "  # load model without classifier layers\n",
        "  model = VGG16(include_top=False, input_shape=(224, 224, 3))\n",
        "  # mark loaded layers as not trainable\n",
        "  for layer in model.layers:\n",
        "    layer.trainable = False\n",
        "  # add new classifier layers\n",
        "  flat1 = Flatten()(model.layers[-1].output)\n",
        "  class1 = Dense(1024, activation='relu')(flat1)\n",
        "  output = Dense(NUM_CLASSES, activation='softmax')(class1)\n",
        "  # define new model\n",
        "  model = Model(inputs=model.inputs, outputs=output)\n",
        "  # summarize\n",
        "  # model.summary()\n",
        "\n",
        "  model.compile(\n",
        "      optimizer=keras.optimizers.RMSprop(),  # Optimizer\n",
        "      # Loss function to minimize\n",
        "      loss=keras.losses.SparseCategoricalCrossentropy(),\n",
        "      # List of metrics to monitor\n",
        "      metrics=[keras.metrics.SparseCategoricalAccuracy()],\n",
        "  )\n",
        "  history = model.fit(\n",
        "      X_train,\n",
        "      y_train,\n",
        "      batch_size=BATCH_SIZE,\n",
        "      epochs=int(config[config_name]['num_epochs']),\n",
        "      # We pass some validation for\n",
        "      # monitoring validation loss and metrics\n",
        "      # at the end of each epoch\n",
        "      validation_data=(X_valid, y_valid),\n",
        "      verbose=2\n",
        "  )\n",
        "  final_val_acc = history.history['val_sparse_categorical_accuracy'][-1]\n",
        "  val_accs[config_name]=final_val_acc\n",
        "\n",
        "  # save model for future testing\n",
        "  model.save(config_name +\"_model\")"
      ],
      "execution_count": null,
      "outputs": []
    },
    {
      "cell_type": "code",
      "metadata": {
        "id": "Sf1SimoDFFoV"
      },
      "source": [
        "print(val_accs)"
      ],
      "execution_count": null,
      "outputs": []
    },
    {
      "cell_type": "markdown",
      "metadata": {
        "id": "861eFpJtYLY6"
      },
      "source": [
        "# Make Predictions"
      ]
    },
    {
      "cell_type": "markdown",
      "metadata": {
        "id": "rwOmm5iHbZMs"
      },
      "source": [
        "## Load Test Images"
      ]
    },
    {
      "cell_type": "code",
      "metadata": {
        "id": "YmIUXjd1YQXc"
      },
      "source": [
        "import os\n",
        "\n",
        "image_dir = \"/content/Brushstroke-Classifier/test-images\"\n",
        "\n",
        "# Preprocess images\n",
        "TARGET_SIZE = (224,224,3)\n",
        "test_images = {}\n",
        "for filename in os.listdir(image_dir):\n",
        "    img = image.load_img(image_dir+\"/\"+filename,target_size=TARGET_SIZE)\n",
        "    img = image.img_to_array(img)\n",
        "    img = img.reshape((1, img.shape[0], img.shape[1], img.shape[2]))\n",
        "    img = preprocess_input(img)\n",
        "    test_images[filename] = img"
      ],
      "execution_count": null,
      "outputs": []
    },
    {
      "cell_type": "markdown",
      "metadata": {
        "id": "6yLJnIUraSzJ"
      },
      "source": [
        "## Test Model"
      ]
    },
    {
      "cell_type": "code",
      "metadata": {
        "id": "LQles8k0aWpZ"
      },
      "source": [
        "from collections import defaultdict\n",
        "\n",
        "predictions = defaultdict(dict)\n",
        "# first load each model\n",
        "for config_name in config:\n",
        "  model = keras.models.load_model(config_name +\"_model\")\n",
        "  # give prediction for each test_image\n",
        "  for filename,img in test_images.items():\n",
        "    yhat = model.predict(img)\n",
        "    label = np.argmax(yhat)\n",
        "    predictions[filename][config_name] = label\n",
        "\n",
        "# print results\n",
        "for filename,label_dict in predictions.items():\n",
        "  print(filename +\":\")\n",
        "  for var_name,label in label_dict.items():\n",
        "    print(\"{}:{}\".format(var_name,label))"
      ],
      "execution_count": null,
      "outputs": []
    }
  ]
}